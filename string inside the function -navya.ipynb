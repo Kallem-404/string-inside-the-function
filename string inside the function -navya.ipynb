{
 "cells": [
  {
   "cell_type": "code",
   "execution_count": 1,
   "id": "49578774",
   "metadata": {},
   "outputs": [
    {
     "name": "stdout",
     "output_type": "stream",
     "text": [
      "1234abcd\n",
      "dcba4321\n"
     ]
    }
   ],
   "source": [
    "def string_reverse(str1):                 # defining the function\n",
    "\n",
    "    rstr1 = ''                           \n",
    "    index = len(str1)                # count the index value\n",
    "    while index > 0:\n",
    "        rstr1 += str1[ index - 1 ]\n",
    "        index = index - 1\n",
    "    return rstr1               \n",
    "str = '1234abcd'            #input\n",
    "print(str)\n",
    "print(string_reverse(str))"
   ]
  },
  {
   "cell_type": "code",
   "execution_count": null,
   "id": "829178b5",
   "metadata": {},
   "outputs": [],
   "source": []
  }
 ],
 "metadata": {
  "kernelspec": {
   "display_name": "Python 3 (ipykernel)",
   "language": "python",
   "name": "python3"
  },
  "language_info": {
   "codemirror_mode": {
    "name": "ipython",
    "version": 3
   },
   "file_extension": ".py",
   "mimetype": "text/x-python",
   "name": "python",
   "nbconvert_exporter": "python",
   "pygments_lexer": "ipython3",
   "version": "3.10.1"
  }
 },
 "nbformat": 4,
 "nbformat_minor": 5
}
